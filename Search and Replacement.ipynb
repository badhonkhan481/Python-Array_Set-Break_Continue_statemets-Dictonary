{
 "cells": [
  {
   "cell_type": "code",
   "execution_count": 9,
   "id": "115b29a3",
   "metadata": {},
   "outputs": [],
   "source": [
    "#Manual\n",
    "search_word ='Argentina'\n",
    "replace_word ='Brazil'\n",
    "\n",
    "with open(r'text1.txt','r') as file:\n",
    "    data = file.read()\n",
    "    data = data.replace(search_word, replace_word)"
   ]
  },
  {
   "cell_type": "code",
   "execution_count": 10,
   "id": "dd04501a",
   "metadata": {},
   "outputs": [],
   "source": [
    "with open(r'text1.txt', 'w') as file:\n",
    "    file.write(data)"
   ]
  },
  {
   "cell_type": "code",
   "execution_count": 15,
   "id": "8250a6f1",
   "metadata": {},
   "outputs": [],
   "source": [
    "#Auto\n",
    "text='you have got to be selected by a Brazil'"
   ]
  },
  {
   "cell_type": "code",
   "execution_count": 16,
   "id": "67c8b80e",
   "metadata": {},
   "outputs": [],
   "source": [
    "import re"
   ]
  },
  {
   "cell_type": "code",
   "execution_count": 17,
   "id": "97804900",
   "metadata": {},
   "outputs": [
    {
     "data": {
      "text/plain": [
       "'you have got to be selected by a Argentina'"
      ]
     },
     "execution_count": 17,
     "metadata": {},
     "output_type": "execute_result"
    }
   ],
   "source": [
    "re.sub(replace_word, search_word, text)"
   ]
  },
  {
   "cell_type": "code",
   "execution_count": null,
   "id": "26344bff",
   "metadata": {},
   "outputs": [],
   "source": []
  }
 ],
 "metadata": {
  "kernelspec": {
   "display_name": "Python 3 (ipykernel)",
   "language": "python",
   "name": "python3"
  },
  "language_info": {
   "codemirror_mode": {
    "name": "ipython",
    "version": 3
   },
   "file_extension": ".py",
   "mimetype": "text/x-python",
   "name": "python",
   "nbconvert_exporter": "python",
   "pygments_lexer": "ipython3",
   "version": "3.9.13"
  }
 },
 "nbformat": 4,
 "nbformat_minor": 5
}
