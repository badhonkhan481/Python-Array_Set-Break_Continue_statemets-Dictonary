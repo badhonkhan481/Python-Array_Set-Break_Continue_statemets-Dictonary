{
 "cells": [
  {
   "cell_type": "code",
   "execution_count": 6,
   "id": "ebfaff7a",
   "metadata": {},
   "outputs": [
    {
     "name": "stdout",
     "output_type": "stream",
     "text": [
      "0\n",
      "1\n",
      "2\n",
      "3\n"
     ]
    }
   ],
   "source": [
    "for i in range(100):\n",
    "    if i==4:\n",
    "        break\n",
    "    print(i)"
   ]
  },
  {
   "cell_type": "code",
   "execution_count": 13,
   "id": "48cffe69",
   "metadata": {},
   "outputs": [
    {
     "name": "stdout",
     "output_type": "stream",
     "text": [
      "3* 1 = 3\n",
      "3* 2 = 6\n",
      "3* 3 = 9\n",
      "3* 4 = 12\n",
      "3* 5 = 15\n",
      "3* 6 = 18\n",
      "3* 7 = 21\n",
      "3* 8 = 24\n",
      "3* 9 = 27\n",
      "3* 10 = 30\n"
     ]
    }
   ],
   "source": [
    "for i in range(1,100):\n",
    "    if i ==11:\n",
    "        break\n",
    "    print('3*',i,'=',i*3)\n",
    "    "
   ]
  },
  {
   "cell_type": "code",
   "execution_count": 20,
   "id": "9e45a13c",
   "metadata": {},
   "outputs": [
    {
     "name": "stdout",
     "output_type": "stream",
     "text": [
      "I\n",
      "live\n",
      "in\n",
      "Dhaka\n"
     ]
    }
   ],
   "source": [
    "sen ='I live in Dhaka at my home'\n",
    "\n",
    "for i in sen.split():\n",
    "    if i=='at':\n",
    "        break\n",
    "    print(i)\n",
    "    "
   ]
  },
  {
   "cell_type": "code",
   "execution_count": null,
   "id": "98c86794",
   "metadata": {},
   "outputs": [],
   "source": [
    "#while\n",
    "for i in range(1,100):\n",
    "    if i ==11:\n",
    "        break\n",
    "    print('3*',i,'=',i*3)"
   ]
  },
  {
   "cell_type": "code",
   "execution_count": 21,
   "id": "88666237",
   "metadata": {},
   "outputs": [
    {
     "name": "stdout",
     "output_type": "stream",
     "text": [
      "10* 1 = 10\n",
      "10* 2 = 20\n",
      "10* 3 = 30\n",
      "10* 4 = 40\n",
      "10* 5 = 50\n",
      "10* 6 = 60\n",
      "10* 7 = 70\n",
      "10* 8 = 80\n",
      "10* 9 = 90\n",
      "10* 10 = 100\n"
     ]
    }
   ],
   "source": [
    "i=1\n",
    "\n",
    "while i<=100:\n",
    "    if i ==11:\n",
    "        break\n",
    "    print('10*',i,'=', i*10)\n",
    "    i=i+1"
   ]
  },
  {
   "cell_type": "markdown",
   "id": "d8366a99",
   "metadata": {},
   "source": [
    "# Continue statement\n",
    "\n"
   ]
  },
  {
   "cell_type": "code",
   "execution_count": 34,
   "id": "7244c227",
   "metadata": {},
   "outputs": [
    {
     "data": {
      "text/plain": [
       "[1, 2, 3, 4, 6, 7, 8, 9, 10]"
      ]
     },
     "execution_count": 34,
     "metadata": {},
     "output_type": "execute_result"
    }
   ],
   "source": [
    "num=[1,2,3,4,6,7,8,9,10]\n",
    "num"
   ]
  },
  {
   "cell_type": "code",
   "execution_count": 35,
   "id": "82b4b43e",
   "metadata": {},
   "outputs": [
    {
     "data": {
      "text/plain": [
       "[2, 4, 6, 8, 10]"
      ]
     },
     "execution_count": 35,
     "metadata": {},
     "output_type": "execute_result"
    }
   ],
   "source": [
    "[i for i in num if i%2==0]"
   ]
  },
  {
   "cell_type": "code",
   "execution_count": 36,
   "id": "c8529de9",
   "metadata": {},
   "outputs": [
    {
     "name": "stdout",
     "output_type": "stream",
     "text": [
      "2\n",
      "4\n",
      "6\n",
      "8\n",
      "10\n"
     ]
    }
   ],
   "source": [
    "for i in num:\n",
    "    if i%2==1:\n",
    "        continue\n",
    "    print(i)"
   ]
  },
  {
   "cell_type": "code",
   "execution_count": 40,
   "id": "635b0d3a",
   "metadata": {},
   "outputs": [
    {
     "name": "stdout",
     "output_type": "stream",
     "text": [
      "I\n",
      "live\n",
      "in\n",
      "Dhaka\n",
      "my\n",
      "home\n"
     ]
    }
   ],
   "source": [
    "sen ='I live in Dhaka at my home'\n",
    "\n",
    "for i in sen.split():\n",
    "    if i=='at':\n",
    "        continue\n",
    "    print(i)\n",
    "    "
   ]
  }
 ],
 "metadata": {
  "kernelspec": {
   "display_name": "Python 3 (ipykernel)",
   "language": "python",
   "name": "python3"
  },
  "language_info": {
   "codemirror_mode": {
    "name": "ipython",
    "version": 3
   },
   "file_extension": ".py",
   "mimetype": "text/x-python",
   "name": "python",
   "nbconvert_exporter": "python",
   "pygments_lexer": "ipython3",
   "version": "3.9.13"
  }
 },
 "nbformat": 4,
 "nbformat_minor": 5
}
