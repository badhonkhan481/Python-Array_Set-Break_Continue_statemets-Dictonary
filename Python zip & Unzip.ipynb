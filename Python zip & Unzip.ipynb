{
 "cells": [
  {
   "cell_type": "code",
   "execution_count": 14,
   "id": "c28b391a",
   "metadata": {},
   "outputs": [],
   "source": [
    "name =['Badhon', 'Parvej']\n",
    "versity =['GUB', 'NEW']"
   ]
  },
  {
   "cell_type": "code",
   "execution_count": 15,
   "id": "f138617a",
   "metadata": {},
   "outputs": [
    {
     "name": "stdout",
     "output_type": "stream",
     "text": [
      "<zip object at 0x0000026E2CEAE780>\n"
     ]
    }
   ],
   "source": [
    "zipped =zip(name, versity)\n",
    "print(zipped)"
   ]
  },
  {
   "cell_type": "code",
   "execution_count": 16,
   "id": "e31ff43c",
   "metadata": {},
   "outputs": [
    {
     "name": "stdout",
     "output_type": "stream",
     "text": [
      "[('Badhon', 'GUB'), ('Parvej', 'NEW')]\n"
     ]
    }
   ],
   "source": [
    "zipped=list(zip(name,versity))\n",
    "print(zipped)"
   ]
  },
  {
   "cell_type": "code",
   "execution_count": 17,
   "id": "b00a60bb",
   "metadata": {},
   "outputs": [],
   "source": [
    "zipped=dict(zip(name,versity))"
   ]
  },
  {
   "cell_type": "code",
   "execution_count": 18,
   "id": "ac57ed42",
   "metadata": {},
   "outputs": [
    {
     "data": {
      "text/plain": [
       "dict_keys(['Badhon', 'Parvej'])"
      ]
     },
     "execution_count": 18,
     "metadata": {},
     "output_type": "execute_result"
    }
   ],
   "source": [
    "zipped.keys()"
   ]
  },
  {
   "cell_type": "markdown",
   "id": "f413d1e9",
   "metadata": {},
   "source": [
    "# Unzip"
   ]
  },
  {
   "cell_type": "code",
   "execution_count": 19,
   "id": "99713162",
   "metadata": {},
   "outputs": [
    {
     "name": "stdout",
     "output_type": "stream",
     "text": [
      "[('Badhon', 'GUB'), ('Parvej', 'NEW')]\n"
     ]
    }
   ],
   "source": [
    "zipped=list(zip(name,versity))\n",
    "print(zipped)"
   ]
  },
  {
   "cell_type": "code",
   "execution_count": 20,
   "id": "f51fd4b3",
   "metadata": {},
   "outputs": [],
   "source": [
    "name1, versity=zip(*zipped)"
   ]
  },
  {
   "cell_type": "code",
   "execution_count": 21,
   "id": "d6e60d66",
   "metadata": {},
   "outputs": [
    {
     "data": {
      "text/plain": [
       "('Badhon', 'Parvej')"
      ]
     },
     "execution_count": 21,
     "metadata": {},
     "output_type": "execute_result"
    }
   ],
   "source": [
    "name1"
   ]
  },
  {
   "cell_type": "code",
   "execution_count": 22,
   "id": "fd54865c",
   "metadata": {},
   "outputs": [
    {
     "data": {
      "text/plain": [
       "('GUB', 'NEW')"
      ]
     },
     "execution_count": 22,
     "metadata": {},
     "output_type": "execute_result"
    }
   ],
   "source": [
    "versity"
   ]
  },
  {
   "cell_type": "markdown",
   "id": "bccdc4a6",
   "metadata": {},
   "source": [
    "# File ZIP & Unzip"
   ]
  },
  {
   "cell_type": "code",
   "execution_count": 23,
   "id": "0dfd70b0",
   "metadata": {},
   "outputs": [],
   "source": [
    "import zipfile as zp\n",
    "zipp=zp.ZipFile('Zipped Rename.zip','w')\n",
    "zipp.write('set.JPG')"
   ]
  },
  {
   "cell_type": "code",
   "execution_count": 25,
   "id": "0f151dc3",
   "metadata": {},
   "outputs": [],
   "source": [
    "#Unzip\n",
    "with zp.ZipFile('Zipped Rename.zip','r') as file:\n",
    "    file.extractall()"
   ]
  }
 ],
 "metadata": {
  "kernelspec": {
   "display_name": "Python 3 (ipykernel)",
   "language": "python",
   "name": "python3"
  },
  "language_info": {
   "codemirror_mode": {
    "name": "ipython",
    "version": 3
   },
   "file_extension": ".py",
   "mimetype": "text/x-python",
   "name": "python",
   "nbconvert_exporter": "python",
   "pygments_lexer": "ipython3",
   "version": "3.9.13"
  }
 },
 "nbformat": 4,
 "nbformat_minor": 5
}
