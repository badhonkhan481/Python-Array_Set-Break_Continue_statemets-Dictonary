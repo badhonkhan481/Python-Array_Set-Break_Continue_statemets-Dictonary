{
 "cells": [
  {
   "cell_type": "markdown",
   "id": "55ae1e81",
   "metadata": {},
   "source": [
    "# Dictionaries"
   ]
  },
  {
   "cell_type": "code",
   "execution_count": 12,
   "id": "8642680e",
   "metadata": {},
   "outputs": [],
   "source": [
    "dic ={\n",
    "    'name':'Badhon Parvej',\n",
    "    'versity':'GUB'\n",
    "}"
   ]
  },
  {
   "cell_type": "code",
   "execution_count": 13,
   "id": "41cb973b",
   "metadata": {},
   "outputs": [
    {
     "data": {
      "text/plain": [
       "{'name': 'Badhon Parvej', 'versity': 'GUB'}"
      ]
     },
     "execution_count": 13,
     "metadata": {},
     "output_type": "execute_result"
    }
   ],
   "source": [
    "dic"
   ]
  },
  {
   "cell_type": "code",
   "execution_count": 14,
   "id": "f9adb4c0",
   "metadata": {},
   "outputs": [
    {
     "data": {
      "text/plain": [
       "dict_keys(['name', 'versity'])"
      ]
     },
     "execution_count": 14,
     "metadata": {},
     "output_type": "execute_result"
    }
   ],
   "source": [
    "dic.keys()"
   ]
  },
  {
   "cell_type": "code",
   "execution_count": 15,
   "id": "b46a9043",
   "metadata": {},
   "outputs": [
    {
     "data": {
      "text/plain": [
       "dict"
      ]
     },
     "execution_count": 15,
     "metadata": {},
     "output_type": "execute_result"
    }
   ],
   "source": [
    "type(dic)"
   ]
  },
  {
   "cell_type": "code",
   "execution_count": 16,
   "id": "fcae6c71",
   "metadata": {},
   "outputs": [
    {
     "data": {
      "text/plain": [
       "dict_values(['Badhon Parvej', 'GUB'])"
      ]
     },
     "execution_count": 16,
     "metadata": {},
     "output_type": "execute_result"
    }
   ],
   "source": [
    "dic.values()"
   ]
  },
  {
   "cell_type": "code",
   "execution_count": 17,
   "id": "43cb270c",
   "metadata": {},
   "outputs": [
    {
     "data": {
      "text/plain": [
       "{'name': 'Badhon Parvej', 'versity': 'GUB'}"
      ]
     },
     "execution_count": 17,
     "metadata": {},
     "output_type": "execute_result"
    }
   ],
   "source": [
    "#Copy\n",
    "\n",
    "dic2= dic.copy()\n",
    "dic2"
   ]
  },
  {
   "cell_type": "code",
   "execution_count": 18,
   "id": "717de6d4",
   "metadata": {},
   "outputs": [],
   "source": [
    "dic['versity']='NEW'"
   ]
  },
  {
   "cell_type": "code",
   "execution_count": 19,
   "id": "22c23b7f",
   "metadata": {},
   "outputs": [
    {
     "data": {
      "text/plain": [
       "{'name': 'Badhon Parvej', 'versity': 'NEW'}"
      ]
     },
     "execution_count": 19,
     "metadata": {},
     "output_type": "execute_result"
    }
   ],
   "source": [
    "dic"
   ]
  },
  {
   "cell_type": "code",
   "execution_count": 20,
   "id": "a634b3b6",
   "metadata": {},
   "outputs": [
    {
     "data": {
      "text/plain": [
       "{'name': 'Badhon Parvej', 'versity': 'NEW', 'dept': 'Data Science'}"
      ]
     },
     "execution_count": 20,
     "metadata": {},
     "output_type": "execute_result"
    }
   ],
   "source": [
    "dic['dept']='Data Science'\n",
    "dic"
   ]
  },
  {
   "cell_type": "code",
   "execution_count": 21,
   "id": "5c3c8c1f",
   "metadata": {},
   "outputs": [
    {
     "data": {
      "text/plain": [
       "{'name': 'Badhon Parvej', 'versity': 'NEW', 'dept': 'ai'}"
      ]
     },
     "execution_count": 21,
     "metadata": {},
     "output_type": "execute_result"
    }
   ],
   "source": [
    "dic.update({'dept': 'ai'})\n",
    "dic"
   ]
  },
  {
   "cell_type": "code",
   "execution_count": 22,
   "id": "9632e450",
   "metadata": {},
   "outputs": [
    {
     "data": {
      "text/plain": [
       "{'name': 'Badhon Parvej', 'versity': 'NEW'}"
      ]
     },
     "execution_count": 22,
     "metadata": {},
     "output_type": "execute_result"
    }
   ],
   "source": [
    "dic.popitem()\n",
    "dic"
   ]
  },
  {
   "cell_type": "code",
   "execution_count": 23,
   "id": "bbcd2d0a",
   "metadata": {},
   "outputs": [
    {
     "data": {
      "text/plain": [
       "{'name': 'Badhon Parvej'}"
      ]
     },
     "execution_count": 23,
     "metadata": {},
     "output_type": "execute_result"
    }
   ],
   "source": [
    "dic.pop('versity')\n",
    "dic"
   ]
  },
  {
   "cell_type": "code",
   "execution_count": 24,
   "id": "1f8317ad",
   "metadata": {},
   "outputs": [
    {
     "data": {
      "text/plain": [
       "{'name': 'Badhon Parvej', 'versity': 'GUB'}"
      ]
     },
     "execution_count": 24,
     "metadata": {},
     "output_type": "execute_result"
    }
   ],
   "source": [
    "dic2"
   ]
  },
  {
   "cell_type": "code",
   "execution_count": 25,
   "id": "366688a8",
   "metadata": {},
   "outputs": [
    {
     "data": {
      "text/plain": [
       "{'versity': 'GUB'}"
      ]
     },
     "execution_count": 25,
     "metadata": {},
     "output_type": "execute_result"
    }
   ],
   "source": [
    "del dic2['name']\n",
    "dic2"
   ]
  },
  {
   "cell_type": "code",
   "execution_count": 26,
   "id": "61cea23c",
   "metadata": {},
   "outputs": [
    {
     "data": {
      "text/plain": [
       "{'versity': 'GUB', 'dept2': 'ai'}"
      ]
     },
     "execution_count": 26,
     "metadata": {},
     "output_type": "execute_result"
    }
   ],
   "source": [
    "dic2['dept2']='ai'\n",
    "dic2"
   ]
  },
  {
   "cell_type": "code",
   "execution_count": 27,
   "id": "9598a96b",
   "metadata": {},
   "outputs": [
    {
     "name": "stdout",
     "output_type": "stream",
     "text": [
      "GUB\n",
      "ai\n"
     ]
    }
   ],
   "source": [
    "#print allitems\n",
    "for x in dic2:\n",
    "    print(dic2[x])\n",
    "#values"
   ]
  },
  {
   "cell_type": "code",
   "execution_count": 28,
   "id": "11d3c4d1",
   "metadata": {},
   "outputs": [
    {
     "data": {
      "text/plain": [
       "{'versity': 'GUB', 'dept2': 'ai'}"
      ]
     },
     "execution_count": 28,
     "metadata": {},
     "output_type": "execute_result"
    }
   ],
   "source": [
    "dic2"
   ]
  },
  {
   "cell_type": "code",
   "execution_count": 29,
   "id": "0805d332",
   "metadata": {},
   "outputs": [
    {
     "name": "stdout",
     "output_type": "stream",
     "text": [
      "versity\n",
      "dept2\n"
     ]
    }
   ],
   "source": [
    "for x in dic2:\n",
    "    print(x)\n",
    "#keys"
   ]
  },
  {
   "cell_type": "code",
   "execution_count": null,
   "id": "60efb8e3",
   "metadata": {},
   "outputs": [],
   "source": []
  },
  {
   "cell_type": "code",
   "execution_count": 30,
   "id": "3667a879",
   "metadata": {},
   "outputs": [
    {
     "data": {
      "text/plain": [
       "['name']"
      ]
     },
     "execution_count": 30,
     "metadata": {},
     "output_type": "execute_result"
    }
   ],
   "source": [
    "d2=list(dic.keys())\n",
    "d2"
   ]
  },
  {
   "cell_type": "code",
   "execution_count": 31,
   "id": "7da03c5b",
   "metadata": {},
   "outputs": [
    {
     "data": {
      "text/plain": [
       "['Badhon Parvej']"
      ]
     },
     "execution_count": 31,
     "metadata": {},
     "output_type": "execute_result"
    }
   ],
   "source": [
    "d3=list(dic.values())\n",
    "d3"
   ]
  },
  {
   "cell_type": "code",
   "execution_count": 33,
   "id": "93a86958",
   "metadata": {},
   "outputs": [
    {
     "name": "stdout",
     "output_type": "stream",
     "text": [
      "3\n",
      "Name:\n",
      "Badhon Parvej\n",
      "Dept:\n",
      "Computer Science\n",
      "Versity:\n",
      "Green University of Bangladesh\n",
      "{'Name:': 'Badhon Parvej', 'Dept:': 'Computer Science', 'Versity:': 'Green University of Bangladesh'}\n"
     ]
    }
   ],
   "source": [
    "#dic from user input\n",
    "\n",
    "n=int(input())\n",
    "d={}\n",
    "for i in range(n):\n",
    "    key = input()\n",
    "    value =input()\n",
    "    d[key] =value\n",
    "print(d)"
   ]
  },
  {
   "cell_type": "code",
   "execution_count": null,
   "id": "1d8586bf",
   "metadata": {},
   "outputs": [],
   "source": []
  }
 ],
 "metadata": {
  "kernelspec": {
   "display_name": "Python 3 (ipykernel)",
   "language": "python",
   "name": "python3"
  },
  "language_info": {
   "codemirror_mode": {
    "name": "ipython",
    "version": 3
   },
   "file_extension": ".py",
   "mimetype": "text/x-python",
   "name": "python",
   "nbconvert_exporter": "python",
   "pygments_lexer": "ipython3",
   "version": "3.9.13"
  }
 },
 "nbformat": 4,
 "nbformat_minor": 5
}
